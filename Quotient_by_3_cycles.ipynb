{
 "cells": [
  {
   "cell_type": "markdown",
   "metadata": {},
   "source": [
    "Note that the labelling of these sections is based on the version of the paper completed on 15/08/22. This cell should be updated in the event of a change to the labelling in the paper.\n",
    "\n",
    "Currently running on Sagemath version 9.7.beta8, Release Date: 2022-08-07.\n",
    "Using Python 3.10.5.\n",
    "\n",
    "This notebook is intended to be ran sequentially from the beginning. Changing the order in which cells are ran may lead to errors. "
   ]
  },
  {
   "cell_type": "markdown",
   "metadata": {},
   "source": [
    "## Quotient by $(345)$ in the $\\mathbb{P}^4$-model"
   ]
  },
  {
   "cell_type": "code",
   "execution_count": 1,
   "metadata": {},
   "outputs": [
    {
     "name": "stdout",
     "output_type": "stream",
     "text": [
      "The defining equations in terms of the semi-invariants:\n",
      "Q2:  2*s1^2 + 2*s1*s2 + 4/3*s2^2 + 2/3*s3*s4\n",
      "Q3:  -3*s1^2*s2 - 3*s1*s2^2 - 8/9*s2^3 + 1/9*s3^3 + 2/3*s2*s3*s4 + 1/9*s4^3\n",
      "\n",
      "The defining equation in terms of the invariants:\n",
      "reduced polynomial:  -3*s^6 - 9*s^5*t - 15*s^4*t^2 - 15*s^3*t^3 - 10*s^2*t^4 - 4*s*t^5 - 8/9*t^6 - 5*s^2*t*v - 5*s*t^2*v - 20/9*t^3*v + 1/9*v^2 \n",
      "\n",
      "Output of Weierstrassform: \n",
      "[-432*s^6-1296*s^5*x-10260*s^4*x^2-18360*s^3*x^3-16740*s^2*x^4-7776*s*x^5-1728*x^6+y^2, t, -90*s^2*t-90*s*t^2-40*t^3+4*v, x, 45/2*s^2*x+45/2*s*x^2+10*x^3+1/4*y]\n",
      "\n",
      "-432*xp^6 - 34560*xp^4 - 54000*xp^2 + yp^2 - 21600 \n",
      "\n",
      "f: 0 = -432*x^3 - 34560*x^2*z + y^2*z - 54000*x*z^2 - 21600*z^3\n",
      "j = -1 * 2^-3 * 5^2 * 241^3\n",
      "label: 450b2\n",
      "\n",
      "f: 0 = -21600*x^3 - 54000*x^2*z + y^2*z - 34560*x*z^2 - 432*z^3\n",
      "j = -1 * 2^-5 * 5 * 29^3\n",
      "label: 450b3\n"
     ]
    }
   ],
   "source": [
    "# We repeat the calulations for the 4 and 2,2 cycles again now \n",
    "Qr.<r> = CyclotomicField(3)\n",
    "P3s.<s1, s2, s3, s4> = Qr[]\n",
    "\n",
    "v2s = matrix([[1,0,0,0],[0,1, 1,1],[0,1,r,r^2],[0,1,r^2,r]])\n",
    "\n",
    "s2v = v2s.inverse()\n",
    "v1, v2, v3, v4 = s2v*vector([s1, s2, s3, s4])\n",
    "\n",
    "# We then define our two constraints (that is, we have already defined v5 := -v1-v2-v3-v4)\n",
    "Q2 = v1^2+v2^2+v3^2+v4^2+(v1+v2+v3+v4)^2\n",
    "Q3 = v1^3+v2^3+v3^3+v4^3-(v1+v2+v3+v4)^3\n",
    "#Q2.resultant(Q3)\n",
    "\n",
    "print(\"The defining equations in terms of the semi-invariants:\")\n",
    "print(\"Q2: \",Q2)\n",
    "print(\"Q3: \",Q3)\n",
    "print()\n",
    "\n",
    "# we introduce s=s1, t=s2, u=s3*s4, v=s3^3\n",
    "# This allows us to rewrite Q2 and Q3 in terms of our invariants. \n",
    "# Note that (remarkably) Q2 and Q3 are polynomials over QQ. \n",
    "P3si.<s,t,u,v> = QQ[]\n",
    "Q2 = 2*s^2 + 2*s*t + 4/3*t^2 + 2/3*u\n",
    "Q3 = -3*s^2*t - 3*s*t^2 - 8/9*t^3 + 1/9*v + 2/3*t*u + 1/9*u^3/v\n",
    "\n",
    "# In writing these, we notice we can eliminate u\n",
    "usub = -(3/2)*(2*s^2 + 2*s*t + 4/3*t^2)\n",
    "poly = Q3(s,t,usub,v)\n",
    "# We extract the polynomial via the numerator \n",
    "P3sir.<s,t,v> = QQ[]\n",
    "poly = P3sir(poly(s,t,0,v).numerator())\n",
    "print(\"The defining equation in terms of the invariants:\")\n",
    "print(\"reduced polynomial: \", poly,\"\\n\")\n",
    "\n",
    "# We can now use Maple to find a Weierstrass form of this curve, that \n",
    "# we know to be elliptic from a Riemann-Hurwitz argument. \n",
    "# Take the variables of the reduced polynomial to be u,v, leaving s as a scale,\n",
    "# and take the coordinates on the new elliptic curve to be x, y. \n",
    "MP = Maple()\n",
    "MP.with_package('algcurves')\n",
    "wf_data = MP('Weierstrassform({}, t, v, x, y)'.format(poly))\n",
    "poly_wp = wf_data.op(1)\n",
    "print(\"Output of Weierstrassform: \")\n",
    "print(wf_data)\n",
    "print()\n",
    "\n",
    "# We effect the transform of the paper\n",
    "R.<xp, yp> = QQ[]\n",
    "x = -2/(xp+1)\n",
    "y = yp/(xp+1)^3\n",
    "F = -432-1296*x-10260*x^2-18360*x^3-16740*x^4-7776*x^5-1728*x^6 + y^2\n",
    "print(F.numerator(), \"\\n\")\n",
    "\n",
    "# We get the quotient curves \n",
    "R.<x,y,z> = QQ[]\n",
    "f = y^2*z-432*(x^3+80*x^2*z+125*x*z^2+50*z^3)\n",
    "E = Jacobian(f)\n",
    "print(\"f: 0 =\", f)\n",
    "print(\"j =\", E.j_invariant().factor())\n",
    "print(\"label:\", E.label())\n",
    "\n",
    "print()\n",
    "f = y^2*z-432*(z^3+80*z^2*x+125*z*x^2+50*x^3)\n",
    "E = Jacobian(f)\n",
    "print(\"f: 0 =\", f)\n",
    "print(\"j =\", E.j_invariant().factor())\n",
    "print(\"label:\", E.label())"
   ]
  },
  {
   "cell_type": "code",
   "execution_count": null,
   "metadata": {},
   "outputs": [],
   "source": []
  }
 ],
 "metadata": {
  "kernelspec": {
   "display_name": "SageMath 9.7.beta8",
   "language": "sage",
   "name": "sagemath"
  },
  "language_info": {
   "codemirror_mode": {
    "name": "ipython",
    "version": 3
   },
   "file_extension": ".py",
   "mimetype": "text/x-python",
   "name": "python",
   "nbconvert_exporter": "python",
   "pygments_lexer": "ipython3",
   "version": "3.10.5"
  }
 },
 "nbformat": 4,
 "nbformat_minor": 4
}
