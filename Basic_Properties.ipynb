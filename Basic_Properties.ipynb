{
 "cells": [
  {
   "cell_type": "markdown",
   "metadata": {},
   "source": [
    "Note that the labelling of these sections is based on the version of the paper completed on 15/08/22. This cell should be updated in the event of a change to the labelling in the paper.\n",
    "\n",
    "Currently running on Sagemath version 9.4.rc0, Release Date: 2021-07-27.\n",
    "Using Python 3.9.5.\n",
    "\n",
    "This notebook is intended to be ran sequentially from the beginning. Changing the order in which cells are ran may lead to errors. "
   ]
  },
  {
   "cell_type": "markdown",
   "metadata": {},
   "source": [
    "## Initial Calculations"
   ]
  },
  {
   "cell_type": "code",
   "execution_count": 47,
   "metadata": {},
   "outputs": [
    {
     "name": "stdout",
     "output_type": "stream",
     "text": [
      "(-1) * (x - 1)^2 * x^4 * (x^4 + x^3 + x^2 + x + 1)^2 * (256*x^10 - 837*x^5 + 3456)\n"
     ]
    }
   ],
   "source": [
    "# We start by just verifying the resultant stated. \n",
    "K.<z> = CyclotomicField(5)\n",
    "P.<X,Y,Z> = ProjectiveSpace(K, 2)\n",
    "R.<x,y> = QQ[]\n",
    "\n",
    "F = X*(Y^5 + Z^5) + (X*Y*Z)^2 - X^4*Y*Z - 2*(Y*Z)^3\n",
    "f = F(x, y, 1).change_ring(QQ)\n",
    "res = f.resultant(f.derivative(y), y)\n",
    "print(res.factor())"
   ]
  },
  {
   "cell_type": "markdown",
   "metadata": {},
   "source": [
    "## Lemma 2.4"
   ]
  },
  {
   "cell_type": "code",
   "execution_count": 48,
   "metadata": {},
   "outputs": [
    {
     "name": "stdout",
     "output_type": "stream",
     "text": [
      "True\n"
     ]
    }
   ],
   "source": [
    "# We can then verify that the singular points on the curve, at least over the field QQ[zeta],\n",
    "# are those claimed. \n",
    "C = Curve(F)\n",
    "claimed_singular_points = set([P([z^k, z^(2*k), 1]) for k in range(5)] + [P([1, 0, 0])])\n",
    "print(set(C.singular_points())==claimed_singular_points)"
   ]
  },
  {
   "cell_type": "markdown",
   "metadata": {},
   "source": [
    "## Corollay 2.6"
   ]
  },
  {
   "cell_type": "code",
   "execution_count": 49,
   "metadata": {},
   "outputs": [
    {
     "name": "stdout",
     "output_type": "stream",
     "text": [
      "True\n"
     ]
    }
   ],
   "source": [
    "C = Curve(f)\n",
    "F = C.function_field()\n",
    "divx = F(x).divisor()\n",
    "# Note we use our knowledge of the valuation at c,d,b,a to assign them. \n",
    "# We will then check that this agrees with the divisor of y. \n",
    "supp = divx.support()\n",
    "c, d, b, a = sorted(supp, key = lambda si: divx.valuation(si))\n",
    "print(F(y).divisor()==1*a-1*b-3*c+3*d)"
   ]
  },
  {
   "cell_type": "markdown",
   "metadata": {},
   "source": [
    "## Lemma 2.8"
   ]
  },
  {
   "cell_type": "code",
   "execution_count": 50,
   "metadata": {},
   "outputs": [
    {
     "name": "stdout",
     "output_type": "stream",
     "text": [
      "True\n"
     ]
    }
   ],
   "source": [
    "# We check that the condition for the quadric Q holds as claimed. \n",
    "v1, v2, v3, v4 = [y^3 - x, y^2*x - 1, y - x^2, y*(x^2 - y)]\n",
    "R_quotient = R.quotient(R.ideal(f))\n",
    "print(R_quotient(v1*v2 + v3*v4)==0)"
   ]
  },
  {
   "cell_type": "markdown",
   "metadata": {},
   "source": [
    "## Proposition 2.10"
   ]
  },
  {
   "cell_type": "code",
   "execution_count": 51,
   "metadata": {},
   "outputs": [
    {
     "name": "stdout",
     "output_type": "stream",
     "text": [
      "True\n"
     ]
    }
   ],
   "source": [
    "# We take the canonical divisor to be the divisor associated to the differential v3.\n",
    "# We then check a stronger condition than Prop 2.10, namely that the divisor of this differential is\n",
    "# *exactly* the divisor a+2b+3c.\n",
    "K_can = F(v3).divisor() + F(x).differential().divisor() - F(f.derivative(y)).divisor()\n",
    "print(K_can - (1*a + 2*b + 3*c)==0)"
   ]
  },
  {
   "cell_type": "markdown",
   "metadata": {},
   "source": [
    "## Proposition 2.11"
   ]
  },
  {
   "cell_type": "code",
   "execution_count": 59,
   "metadata": {},
   "outputs": [
    {
     "name": "stdout",
     "output_type": "stream",
     "text": [
      "y2*y4^2 - y1^2*y4 - y1*y3^2 + y2^2*y3\n"
     ]
    }
   ],
   "source": [
    "# We first verify the cubic that the La satisfy. \n",
    "# In order to use one of the standard orderings on polynomial ring generators in Sage, \n",
    "# we take X=x0, Y=x1, Z=x2. \n",
    "R.<y1, y2, y3, y4, x0, x1, x2> = PolynomialRing(QQ, order='invlex')\n",
    "L1 = x0^2*x1 - x1^2*x2\n",
    "L2 = x0^2*x2 - x1*x2^2\n",
    "L3 = x0*x1^2 - x2^3\n",
    "L4 = x0*x2^2 - x1^3\n",
    "II = ideal(y1-L1, y2-L2, y3-L3, y4-L4)\n",
    "B = II.groebner_basis()\n",
    "\n",
    "# Because of the ordering, any relation between the La will come out as a relation between the ya\n",
    "# This follows the logic of \"Inversion of Birational Maps with Groebner Bases\", Schicho, 1997.\n",
    "supset = set([y1, y2, y3, y4])\n",
    "for bi in B:\n",
    "    if supset.issuperset(set(bi.variables())):\n",
    "        print(bi)"
   ]
  },
  {
   "cell_type": "code",
   "execution_count": 53,
   "metadata": {},
   "outputs": [
    {
     "data": {
      "text/plain": [
       "/usr/share/Macaulay2/Cremona.m2:10:1:(3):[8]: error: package Cremona not reloaded; try Reload => true\n",
       "\n",
       "\n",
       "\n",
       "o1000000029 : RingMap Qx <--- Qy\n",
       "\n",
       "\n",
       "o1000000031 : RingMap Qx <--- Quot\n",
       "MathMode: output certified!\n",
       "\n",
       "o1000000032 = true\n",
       "\n",
       "                                2\n",
       "o1000000033 = map (Quot, Qx, {y2  - y1*y3, y1*y4, y2*y4})\n",
       "\n",
       "o1000000033 : RingMap Quot <--- Qx"
      ]
     },
     "execution_count": 53,
     "metadata": {},
     "output_type": "execute_result"
    }
   ],
   "source": [
    "# We now use Macaulay2, interfaced through Sage, to invert the rational map. \n",
    "# See the Cremona package for an explanation of output. \n",
    "macaulay2.eval(\"\"\"\n",
    "               loadPackage \"Cremona\";\n",
    "               Qx = QQ[x0, x1, x2];\n",
    "               Qy = QQ[y1, y2, y3, y4];\n",
    "               phi = map(Qx, Qy, matrix{{x0^2*x1-x1^2*x2,x0^2*x2-x1*x2^2,x0*x1^2-x2^3,x0*x2^2-x1^3}});\n",
    "               Quot = Qy/image(rationalMap(phi));\n",
    "               psi = map(Qx, Quot, matrix{{x0^2*x1-x1^2*x2,x0^2*x2-x1*x2^2,x0*x1^2-x2^3,x0*x2^2-x1^3}});\n",
    "               isBirational(psi, MathMode=>true)\n",
    "               psiInv = inverseMap(psi)\n",
    "               \"\"\"\n",
    "              )"
   ]
  },
  {
   "cell_type": "code",
   "execution_count": 58,
   "metadata": {},
   "outputs": [
    {
     "name": "stdout",
     "output_type": "stream",
     "text": [
      "Valid transform matrix:\n",
      "[                 z                 -1  z^3 + z^2 + z + 1                z^2]\n",
      "[-z^3 - z^2 - z - 1               -z^2                 -1                  z]\n",
      "[               z^3               -z^3               -z^3                z^3]\n",
      "[               z^2  z^3 + z^2 + z + 1                 -z                  1]\n"
     ]
    }
   ],
   "source": [
    "# We now want to construct the map from the cubic we found, namely \n",
    "# L2*L4^2 - L1^2*L4 - L1*L3^2 + L2^2*L3, to the Clebsch surface. \n",
    "# To do so we need the Eckardt points in the L coordinates\n",
    "# We will do this as follows:\n",
    "#  - construct the lines in the HC model.\n",
    "#  - find the intersection of lines that don't share a vertex in the HC model, using Groebnber bases. \n",
    "#  - map these to the La coordinates\n",
    "\n",
    "# We construct the lines in P = K[X,Y,Z] that connect two of the singular points \n",
    "# Note here we will now treat P as a polynomial ring not a projective space. \n",
    "P.<X,Y,Z> = K[]\n",
    "# These lines connect [1:0:0] and [1:z^k:z^(-k)]\n",
    "lines = [z^(-k)*Y-z^k*Z for k in range(5)]\n",
    "# These lines connect [1:z^k:z^(-k)] and [1:z^l:z^(-l)]\n",
    "lines += [(z^(l-k)-z^(k-l))*X - (z^(-k)-z^(-l))*Y + (z^k-z^l)*Z\n",
    "          for k in range(5) for l in range(k+1,5)]\n",
    "# We record the pairs of indices corresponding to these lines, using the numbering of Lemma 2.4\n",
    "indices = [set((k, 5)) for k in range(5)] + [set((k, l)) for k in range(5) for l in range(k+1, 5)]\n",
    "\n",
    "# We will loop through the lines we have, so we record the number of these. \n",
    "nl = len(lines)\n",
    "if nl!=15:\n",
    "    raise ValueError(\"Incorrect number of lines.\")\n",
    "\n",
    "# The La as written below will effect the transformation in the loop. \n",
    "L1 = X^2*Y - Y^2*Z\n",
    "L2 = X^2*Z - Y*Z^2\n",
    "L3 = X*Y^2 - Z^3\n",
    "L4 = X*Z^2 - Y^3\n",
    "P3 = ProjectiveSpace(3, K, names='y')\n",
    "\n",
    "# E_points will store the Eckardt points. \n",
    "E_points = []\n",
    "\n",
    "# We will want to find the intersecion in affine coordinates. \n",
    "# As all the singular points are defined in the chart where X!=0, \n",
    "# we take affine coordinates u=Y/Z and v=Z/X.\n",
    "# Note we avoid z as to not overwrite the notation of the cyclotomic element. \n",
    "R.<u, v> = K[]\n",
    "# We loop over ordered triples of distinct lines\n",
    "for i in range(nl):\n",
    "    for j in range(i+1, nl):\n",
    "        for k in range(j+1, nl):\n",
    "            # If the lines share a vertex, then the intersection will not be what we call \n",
    "            # and Eckardt point, so continue. \n",
    "            if (indices[i].intersection(indices[j])).intersection(indices[k])!=set():\n",
    "                continue\n",
    "            \n",
    "            # If the lines don't intersect in a line, then continue as there is no\n",
    "            # associated Eckardt point.\n",
    "            II = P.ideal([lines[i], lines[j], lines[k]])\n",
    "            if II.dimension() != 1:\n",
    "                continue\n",
    "            # Construct the intersection as the variety of the (now zero dimensional) ideal.\n",
    "            Var = R.ideal([bi.subs({X:1, Y:u, Z:v})\n",
    "                   for bi in II.groebner_basis()]).variety()\n",
    "            # Read out the (first) point in the variety and append the corresponding L points. \n",
    "            yi = Var[0][u]\n",
    "            zi = Var[0][v]\n",
    "            E_points.append(P3([L1(1, yi, zi), L2(1, yi, zi), L3(1, yi, zi), L4(1, yi, zi)]))\n",
    "\n",
    "if len(E_points)!=10:\n",
    "    raise ValueError(\"Insufficiently many Eckardt points found.\")\n",
    "\n",
    "# We will also take E_points_canonical to be the known Eckardt points of the curve when written in \n",
    "# standard coordinates. \n",
    "E_points_canonical = [[1,0,0,0], [0,1,0,0], [0,0,1,0], [0,0,0,1]]\n",
    "E_points_canonical += [[1,-1,0,0], [1,0,-1,0], [1,0,0,-1], [0,1,-1,0], [0,1,0,-1], [0,0,1,-1]]\n",
    "E_points_canonical = [P3(Ei) for Ei in E_points_canonical]\n",
    "\n",
    "# We now want to find a projective transformation that sends E_points to E_points_canonical\n",
    "\n",
    "# We will do this by mapping a maximal linearly independent amount of E_points to the \n",
    "# same number of E_points_canonical, then check that the remaining points are correctly\n",
    "# sent over. \n",
    "\n",
    "# What we are doing here is emulating the method inside point_transormation_matrix, \n",
    "# but making it more efficient by finding one set of source points that work, and then \n",
    "# not rechecking that this is a goot set and finding it's matrix each time. \n",
    "# Note the matrix produce by this method should act by multiplying from the left. \n",
    "import itertools\n",
    "n = 3\n",
    "\n",
    "def get_matrix(S, N):\n",
    "    a = matrix(N+1, N+1, [S[j][i] for i in range(N+1) for j in range(N+1)])\n",
    "    b = matrix(N+1, 1, list(S[N+1]))\n",
    "    X = a.solve_right(b)\n",
    "    m = matrix(N+1, N+1, [X[i,0]*S[i][j] for i in range(N+1) for j in range(N+1)])\n",
    "    return m.transpose()\n",
    "\n",
    "for comb in itertools.combinations(E_points, n+2):\n",
    "    # Check that the source points are linearly independent\n",
    "    if any(l == 0 for l in matrix(K, [list(s) for s in comb]).minors(n+1)):\n",
    "        continue\n",
    "    # msi will map E_points in comb to the standard points related to get_matrix. \n",
    "    msi = get_matrix(comb, n).inverse()\n",
    "    # sources will be the remaining E_points we need to check are correctly mapped. \n",
    "    sources = [Ei for Ei in E_points if Ei not in comb]\n",
    "    break\n",
    "\n",
    "print(\"Valid transform matrix:\")\n",
    "for comb in itertools.combinations(E_points_canonical, n+2):\n",
    "    # Check that the target points are linearly independent\n",
    "    if any(l == 0 for l in matrix(K, [list(t) for t in comb]).minors(n+1)):\n",
    "        continue\n",
    "    # target_set will be the remaining E_points_canonical. \n",
    "    target_set = set([Ei for Ei in E_points_canonical if Ei not in comb])\n",
    "    \n",
    "    # Looping over permutations of the chosen E_points_canonical, \n",
    "    # map these to the standard points, and check that the combined transform\n",
    "    # has the desired effect on sources. \n",
    "    for pi in Permutations(comb):\n",
    "        m_target = get_matrix(pi, n)\n",
    "        \n",
    "        return_mat = m_target*msi\n",
    "        image_set = set([return_mat*ri for ri in sources])\n",
    "\n",
    "        if image_set != target_set:\n",
    "            continue\n",
    "\n",
    "        X = return_mat\n",
    "        last_row = list(X.rows()[-1])[:]\n",
    "        last_ele = last_row.pop()\n",
    "        while last_ele == 0:\n",
    "            last_ele = last_row.pop()\n",
    "        X *= ZZ(1)/last_ele\n",
    "        print(X)\n",
    "        # For illustrative purposes, we will only print one possible matrix\n",
    "        # then break out of the two loops. One could remove these statements \n",
    "        # to see all possible transform matrices, then choose a desired one\n",
    "        # as we did. \n",
    "        break\n",
    "    break"
   ]
  },
  {
   "cell_type": "code",
   "execution_count": 62,
   "metadata": {},
   "outputs": [
    {
     "name": "stdout",
     "output_type": "stream",
     "text": [
      "y2^3 + y2^2*y3 + y2*y3^2 + y3^3 + y2^2*y4 + y2*y3*y4 + y3^2*y4 + y2*y4^2 + y3*y4^2 + y4^3\n",
      "y1^2 + y1*y2 + y2^2 + y1*y3 + y2*y3 + y3^2 + y1*y4 + y2*y4 + y3*y4 + y4^2\n"
     ]
    }
   ],
   "source": [
    "# We now take a particular A that is valid, and check that imposing F=0 gives the quadric. \n",
    "# This is the same calculation as before, now we just go first to a quotient ring where\n",
    "# F=0. \n",
    "A = matrix([[ z^3,   -1, -z^2,    z], [   1, -z^3,   -z,  z^2], \n",
    "            [ z^2,   -z,   -1,  z^3], [   z, -z^2, -z^3,    1]])\n",
    "Ainv = A.inverse()\n",
    "\n",
    "F = x0*(x1^5+x2^5)+(x0*x1*x2)^2-x0^4*x1*x2-2*(x1*x2)^3\n",
    "R_Quotient.<y1, y2, y3, y4, X, Y, Z> = R.quotient(F)\n",
    "L1 = X^2*Y - Y^2*Z\n",
    "L2 = X^2*Z - Y*Z^2\n",
    "L3 = X*Y^2 - Z^3\n",
    "L4 = X*Z^2 - Y^3\n",
    "vx = A*vector([L1, L2, L3, L4])\n",
    "II = ideal(y1-vx[0], y2-vx[1], y3-vx[2], y4-vx[3])\n",
    "B = II.groebner_basis()\n",
    "supset = set([y1, y2, y3, y4])\n",
    "for bi in B:\n",
    "    if supset.issuperset(set(bi.variables())):\n",
    "        print(bi)"
   ]
  },
  {
   "cell_type": "code",
   "execution_count": null,
   "metadata": {},
   "outputs": [],
   "source": []
  }
 ],
 "metadata": {
  "kernelspec": {
   "display_name": "SageMath 9.4.rc0",
   "language": "sage",
   "name": "sagemath"
  },
  "language_info": {
   "codemirror_mode": {
    "name": "ipython",
    "version": 3
   },
   "file_extension": ".py",
   "mimetype": "text/x-python",
   "name": "python",
   "nbconvert_exporter": "python",
   "pygments_lexer": "ipython3",
   "version": "3.9.5"
  }
 },
 "nbformat": 4,
 "nbformat_minor": 4
}
