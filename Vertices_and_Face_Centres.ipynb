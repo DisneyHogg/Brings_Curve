{
 "cells": [
  {
   "cell_type": "markdown",
   "metadata": {},
   "source": [
    "Note that the labelling of these sections is based on the version of the paper completed on 15/08/22. This cell should be updated in the event of a change to the labelling in the paper.\n",
    "\n",
    "Currently running on Sagemath version 9.7.beta8, Release Date: 2022-08-07.\n",
    "Using Python 3.10.5.\n",
    "\n",
    "This notebook is intended to be ran sequentially from the beginning. Changing the order in which cells are ran may lead to errors. "
   ]
  },
  {
   "cell_type": "markdown",
   "metadata": {},
   "source": [
    "## Proposition 3.9"
   ]
  },
  {
   "cell_type": "code",
   "execution_count": 1,
   "metadata": {},
   "outputs": [
    {
     "name": "stdout",
     "output_type": "stream",
     "text": [
      "(-2*z - 2 : -z^2 - 2*z - 1 : 1)\n",
      "(-2*z^2 - 2 : z^3 - z^2 + z : 1)\n",
      "(2*z^3 + 2*z^2 + 2 : -z^3 - z^2 - 2 : 1)\n",
      "(-2*z^3 - 2*z : 2*z^3 + z^2 + z + 2 : 1)\n",
      "(-2*z^3 - 2 : -2*z^3 - z - 1 : 1)\n",
      "(-2*z^2 - 2*z : -z^3 + z + 1 : 1)\n",
      "(2*z^3 + 2*z^2 + 2*z : z^3 + 2*z^2 + 2*z + 1 : 1)\n",
      "(-2*z^3 - 2*z^2 : z^3 + z^2 - 1 : 1)\n",
      "(2*z^2 + 2*z + 2 : -z^3 - 2*z^2 - z : 1)\n",
      "(2*z^3 + 2*z + 2 : z^2 - z + 1 : 1)\n"
     ]
    }
   ],
   "source": [
    "K.<z> = CyclotomicField(5)\n",
    "p = [z,z^2, z^3, z^4]\n",
    "A = matrix([[ z^3,   -1, -z^2,    z], [   1, -z^3,   -z,  z^2], \n",
    "            [ z^2,   -z,   -1,  z^3], [   z, -z^2, -z^3,    1]])\n",
    "Ainv = A.inverse()\n",
    "P = ProjectiveSpace(K, 2, names='x')\n",
    "\n",
    "for pi in Permutations(p):\n",
    "    L1, L2, L3, L4 = Ainv*vector(pi)\n",
    "    XYZ = [L2^2-L1*L3, L1*L4, L2*L4]\n",
    "    # If none of X, Y, Z are non-zero we continue. \n",
    "    # These correspond to the singular points in the HC model, and need\n",
    "    # to be treated via their local behaviour. \n",
    "    if not any(XYZ):\n",
    "        continue\n",
    "    # We remove the Vk which we know\n",
    "    if any([P(XYZ)==P([z^k, z^(2*k) ,1]) for k in range(5)]):\n",
    "        continue\n",
    "    # We further remove a, b, c, d\n",
    "    if sum(P(XYZ))==1:\n",
    "        continue\n",
    "    print(P(XYZ))"
   ]
  },
  {
   "cell_type": "code",
   "execution_count": null,
   "metadata": {},
   "outputs": [],
   "source": []
  }
 ],
 "metadata": {
  "kernelspec": {
   "display_name": "SageMath 9.7.beta8",
   "language": "sage",
   "name": "sagemath"
  },
  "language_info": {
   "codemirror_mode": {
    "name": "ipython",
    "version": 3
   },
   "file_extension": ".py",
   "mimetype": "text/x-python",
   "name": "python",
   "nbconvert_exporter": "python",
   "pygments_lexer": "ipython3",
   "version": "3.10.5"
  }
 },
 "nbformat": 4,
 "nbformat_minor": 4
}
