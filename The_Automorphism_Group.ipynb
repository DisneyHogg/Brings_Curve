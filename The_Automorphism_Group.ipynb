{
 "cells": [
  {
   "cell_type": "markdown",
   "metadata": {},
   "source": [
    "Note that the labelling of these sections is based on the version of the paper completed on 15/08/22. This cell should be updated in the event of a change to the labelling in the paper.\n",
    "\n",
    "Currently running on Sagemath version 9.7.beta8, Release Date: 2022-08-07.\n",
    "Using Python 3.10.5.\n",
    "\n",
    "This notebook is intended to be ran sequentially from the beginning. Changing the order in which cells are ran may lead to errors. "
   ]
  },
  {
   "cell_type": "markdown",
   "metadata": {},
   "source": [
    "## Proposition 2.13"
   ]
  },
  {
   "cell_type": "code",
   "execution_count": 1,
   "metadata": {},
   "outputs": [
    {
     "name": "stdout",
     "output_type": "stream",
     "text": [
      "C2 x S5\n"
     ]
    }
   ],
   "source": [
    "# We will calculate the automorphism group of the curve numerically to check that it is indeed S5. \n",
    "# Let's define the curve\n",
    "from sage.schemes.riemann_surfaces.riemann_surface import RiemannSurface\n",
    "R.<x, y> = QQ[]\n",
    "f = x*(y^5+1) + (x*y)^2 - x^4*y - 2*y^3\n",
    "integration_method = 'rigorous'\n",
    "prec = 60\n",
    "S = RiemannSurface(f, prec=prec, integration_method=integration_method)\n",
    "G = S.symplectic_automorphism_group()\n",
    "# Torelli's theorem tell's us that the automorphism group of the Jacobian of a non-hyperelliptic\n",
    "# curve X is C2 x Aut(X), so we get the result from the following.  \n",
    "print(G.structure_description())"
   ]
  },
  {
   "cell_type": "markdown",
   "metadata": {},
   "source": [
    "## Theorem 2.14"
   ]
  },
  {
   "cell_type": "code",
   "execution_count": 2,
   "metadata": {},
   "outputs": [
    {
     "name": "stdout",
     "output_type": "stream",
     "text": [
      "True\n"
     ]
    }
   ],
   "source": [
    "# We first verify that the matrices written down do generate a group isomorphic to A5\n",
    "K.<z> = CyclotomicField(5)\n",
    "# We want to write down sqrt(5) in terms of the 5th root zeta\n",
    "rs = (polygen(K)^2-5).roots(multiplicities=False)\n",
    "# Let's check which one is sqrt(5), and which is -sqrt(5)\n",
    "s5 = CC(sqrt(5))\n",
    "remainders = [(K.embeddings(CC)[0](r)-s5).abs() for r in rs]\n",
    "# Based on the above, we can write sqrt(5) in terms of z(eta)\n",
    "s5zs = rs[remainders.index(min(remainders))]\n",
    "\n",
    "# Write down the matrices\n",
    "S = Matrix([[1,0,0],[0,z^(1),0],[0,0,z^(-1)]])\n",
    "R = Matrix([[1,2,2],[1,z^2+z^(-2),z^1+z^(-1)],[1,z^1+z^(-1),z^2+z^(-2)]])/s5zs\n",
    "\n",
    "print(MatrixGroup([R, S]).structure_description()=='A5')"
   ]
  },
  {
   "cell_type": "code",
   "execution_count": 3,
   "metadata": {},
   "outputs": [
    {
     "name": "stdout",
     "output_type": "stream",
     "text": [
      "True\n",
      "True\n",
      "True\n"
     ]
    }
   ],
   "source": [
    "# We verify the claims about the pencil of curves\n",
    "P.<X,Y,Z> = K[]\n",
    "F = X*(Y^5+Z^5)  + (X*Y*Z)^2 - X^4*Y*Z - 2*(Y*Z)^3\n",
    "I2, I6 = [(X/2)^r + sum([(X/2+Y*z^k+Z*z^(-k))^r/(5^(r/2)) for k in range(5)]) for r in [2, 6]]\n",
    "\n",
    "f_lambda = lambda l: I6 - l*I2^3\n",
    "\n",
    "print(f_lambda(13/100) == (3/25)*F)\n",
    "print(Curve(f_lambda(17/180)).change_ring(QQ).genus() == 0)\n",
    "print(not Curve(f_lambda(1/10)).change_ring(QQ).is_irreducible())"
   ]
  },
  {
   "cell_type": "markdown",
   "metadata": {},
   "source": [
    "## Proposition 2.15"
   ]
  },
  {
   "cell_type": "code",
   "execution_count": 4,
   "metadata": {},
   "outputs": [
    {
     "name": "stdout",
     "output_type": "stream",
     "text": [
      "removing redundancy\n",
      "x' = (x^2 - y)^-1 * (y^3 - x)^-1 * (y^5 + x^3*y - 3*x*y^2 + 1)\n",
      "y' = (-1) * (y^3 - x)^-1 * (x*y^2 - 1) \n",
      "\n"
     ]
    }
   ],
   "source": [
    "## We now demonstrate how we found the automorphism U\n",
    "# We need to redefine S as we have overwritten it earlier (in the name of keeping notation clear)\n",
    "R.<x, y> = QQ[]\n",
    "f = x*(y^5+1) + (x*y)^2 - x^4*y - 2*y^3\n",
    "integration_method = 'rigorous'\n",
    "prec = 60\n",
    "S = RiemannSurface(f, prec=prec, integration_method=integration_method)\n",
    "g = S.genus\n",
    "RG = S.symplectic_isomorphisms()\n",
    "Tnum = S.tangent_representation_numerical(RG)\n",
    "# Recall that using the knowledge that we expect our matrices to be defined over K, we numerically find this \n",
    "# representation\n",
    "# We adapt the code of tangent_representation_algebraic\n",
    "zc = S._CC(z)\n",
    "indeps = [zc^m for m in range(z.multiplicative_order()-1)]\n",
    "\n",
    "def lincomb(v):\n",
    "    ls = [v]+indeps\n",
    "    w = vector(K, pari.lindep(ls).sage()) \n",
    "    if w[0] != 0 :\n",
    "        return K(list(-w[1:]/w[0]))\n",
    "    \n",
    "Talg = [matrix(K, g, g, [lincomb(a) for a in tnum.list()]) for tnum in Tnum]\n",
    "\n",
    "# We now predefine some terms necessary for the calculation\n",
    "L = PolynomialRing(K, names=['x','y'])\n",
    "# Note this depends on the order in which the differentials are defined by Sage.\n",
    "# To be robust one should either manually enter these in the order desired or use some method to \n",
    "# check the order. \n",
    "vB = vector([L(b) for b in S.cohomology_basis()])\n",
    "\n",
    "# One should look at the cohomology basis numerators to observe that these ratios do indeed give us x', y'.  \n",
    "def mat_to_subs(M):\n",
    "    w = M*vB\n",
    "    yp = w[3]/w[0]\n",
    "    xp = (w[1]+yp*w[3])/w[2]\n",
    "    return (xp, yp)\n",
    "\n",
    "# We write all the automorphisms of the HC model as substitutions in terms of affine coordinates x, y. \n",
    "auts_as_subs = [mat_to_subs(talg) for talg in Talg]\n",
    "\n",
    "# We expect to actually find this is twice as large, so we can trim it\n",
    "half_len = len(auts_as_subs)/2\n",
    "if all([auts_as_subs.index(auts_as_subs[-i])==half_len-i for i in range(1, half_len)]):\n",
    "    print(\"removing redundancy\")\n",
    "    auts_as_subs = auts_as_subs[:half_len]   \n",
    "    \n",
    "# We will then extract the data of which of these automorphisms are non-linear, and find the simplest\n",
    "non_lin = []\n",
    "for i in range(120):\n",
    "    xp, yp = auts_as_subs[i]\n",
    "    xnum = xp.numerator()\n",
    "    xden = xp.denominator()\n",
    "    ynum = yp.numerator()\n",
    "    yden = yp.denominator()\n",
    "    nds = [xnum, xden, ynum, yden]\n",
    "    if not all([ndi.degree()<=1 for ndi in nds]):\n",
    "        non_lin.append(auts_as_subs[i])\n",
    "\n",
    "if len(non_lin) != 60:\n",
    "    raise ValueError\n",
    "    \n",
    "lengths = [len(aut[0]._repr_())+len(aut[1]._repr_()) for aut in non_lin]\n",
    "nl = non_lin[lengths.index(min(lengths))]\n",
    "print(\"x' = {}\".format(nl[0].factor()))\n",
    "print(\"y' = {}\".format(nl[1].factor()), \"\\n\")"
   ]
  },
  {
   "cell_type": "markdown",
   "metadata": {},
   "source": [
    "## Action on $\\mathbb{P}^1 \\times \\mathbb{P}^1$"
   ]
  },
  {
   "cell_type": "code",
   "execution_count": 5,
   "metadata": {},
   "outputs": [
    {
     "name": "stdout",
     "output_type": "stream",
     "text": [
      "[-c^3 - c^2         -1]\n",
      "[        -1  c^3 + c^2]\n",
      "\n",
      "[            -1 -c^3 - c^2 - 1]\n",
      "[-c^3 - c^2 - 1              1]\n"
     ]
    }
   ],
   "source": [
    "# We will now demonstrate how to get the action of the automorphism group on P1xP1. \n",
    "# so as to not overlap notation we will now call the generator of the cycltomic field c.\n",
    "K.<c> = CyclotomicField(5)\n",
    "P.<u,v,z,w> = K[]\n",
    "# We crete the vecor of the (modified) Sgre embedding\n",
    "vec = vector([u*z, v*w, v*z, -u*w])\n",
    "\n",
    "# The matrices A and B map from the coordinates [vi:] coming from the cohomology basis to \n",
    "# the coordinates [xi:] of the standard form. It is in these latter coordinate that we know \n",
    "# how to write down the transform (12) easily, so we carry that action over.\n",
    "A = matrix([[ c^3,   -1, -c^2,    c], [   1, -c^3,   -c,  c^2], \n",
    "            [ c^2,   -c,   -1,  c^3], [   c, -c^2, -c^3,    1]])\n",
    "B = matrix([[0, 0, 0, 1], [0, 0, -1, 0], [0, 1, 0, 0], [-1, 0, 0, 0]])\n",
    "AB = A*B\n",
    "ABi = AB.inverse()\n",
    "\n",
    "# We transform the vector\n",
    "x = AB*vec\n",
    "t_12 = matrix([[0, 1, 0, 0], [1, 0, 0, 0], [0, 0, 1, 0], [0, 0, 0, 1]])\n",
    "x_t = t_12*x\n",
    "vec_t = ABi*x_t\n",
    "\n",
    "# As the transform will be an element of PGL(2, C) on each P1 we can read off the \n",
    "# corresponding matrix which we print off. \n",
    "vou = vec_t[2]/vec_t[0]\n",
    "woz = vec_t[1]/vec_t[2]\n",
    "\n",
    "vou_m = matrix([list(reversed(vou.numerator().coefficients())), \n",
    "                list(reversed(vou.denominator().coefficients()))])\n",
    "woz_m = matrix([list(reversed(woz.numerator().coefficients())), \n",
    "                list(reversed(woz.denominator().coefficients()))])\n",
    "\n",
    "\n",
    "print(vou_m/vou_m.det())\n",
    "print()\n",
    "print(woz_m/woz_m.det())"
   ]
  },
  {
   "cell_type": "code",
   "execution_count": null,
   "metadata": {},
   "outputs": [],
   "source": []
  }
 ],
 "metadata": {
  "kernelspec": {
   "display_name": "SageMath 9.7.beta8",
   "language": "sage",
   "name": "sagemath"
  },
  "language_info": {
   "codemirror_mode": {
    "name": "ipython",
    "version": 3
   },
   "file_extension": ".py",
   "mimetype": "text/x-python",
   "name": "python",
   "nbconvert_exporter": "python",
   "pygments_lexer": "ipython3",
   "version": "3.10.5"
  }
 },
 "nbformat": 4,
 "nbformat_minor": 4
}
