{
 "cells": [
  {
   "cell_type": "markdown",
   "metadata": {},
   "source": [
    "Note that the labelling of these sections is based on the version of the paper completed on 15/08/22. This cell should be updated in the event of a change to the labelling in the paper.\n",
    "\n",
    "Currently running on Sagemath version 9.7.beta8, Release Date: 2022-08-07.\n",
    "Using Python 3.10.5.\n",
    "\n",
    "This notebook is intended to be ran sequentially from the beginning. Changing the order in which cells are ran may lead to errors. "
   ]
  },
  {
   "cell_type": "markdown",
   "metadata": {},
   "source": [
    "## Normalisers"
   ]
  },
  {
   "cell_type": "code",
   "execution_count": 1,
   "metadata": {},
   "outputs": [
    {
     "data": {
      "text/plain": [
       "True"
      ]
     },
     "execution_count": 1,
     "metadata": {},
     "output_type": "execute_result"
    }
   ],
   "source": [
    "## We will briefly verify the normaliser calculations \n",
    "# a \n",
    "S5 = SymmetricGroup(5)\n",
    "p2 = S5((1,2))\n",
    "p2p = S5((3,4))\n",
    "p4 = S5((1,3,2,4))\n",
    "\n",
    "C2 = S5.subgroup([p2*p2p])\n",
    "V4 = S5.subgroup([p2, p2p])\n",
    "C4 = S5.subgroup([p4])\n",
    "D8 = S5.subgroup([p4, p2])\n",
    "\n",
    "S5.normalizer(C2) == S5.normalizer(V4) == S5.normalizer(C4) == S5.normalizer(D8) == D8"
   ]
  },
  {
   "cell_type": "code",
   "execution_count": 2,
   "metadata": {},
   "outputs": [
    {
     "data": {
      "text/plain": [
       "True"
      ]
     },
     "execution_count": 2,
     "metadata": {},
     "output_type": "execute_result"
    }
   ],
   "source": [
    "# b\n",
    "p3 = S5((3,4,5))\n",
    "\n",
    "C3 = S5.subgroup([p3])\n",
    "C6 = S5.subgroup([p3, p2])\n",
    "S3 = S5.subgroup([p3, p2p])\n",
    "S3p = S5.subgroup([p3, p2*p2p])\n",
    "D12 = S5.subgroup([p3, p2, p2p])\n",
    "\n",
    "S5.normalizer(C3) == S5.normalizer(C6) == S5.normalizer(S3) == S5.normalizer(S3p) == S5.normalizer(D12) == D12"
   ]
  },
  {
   "cell_type": "code",
   "execution_count": 3,
   "metadata": {},
   "outputs": [
    {
     "data": {
      "text/plain": [
       "True"
      ]
     },
     "execution_count": 3,
     "metadata": {},
     "output_type": "execute_result"
    }
   ],
   "source": [
    "# c\n",
    "p22 = S5(((1,3),(2,4)))\n",
    "p3p = S5((2,3,4))\n",
    "\n",
    "V4 = S5.subgroup([p2*p2p, p22])\n",
    "A4 = S5.subgroup([p3p, p2*p2p])\n",
    "S4 = S5.subgroup([p3p, p2, p2p])\n",
    "\n",
    "S5.normalizer(V4) == S5.normalizer(A4) == S4"
   ]
  },
  {
   "cell_type": "code",
   "execution_count": null,
   "metadata": {},
   "outputs": [],
   "source": []
  }
 ],
 "metadata": {
  "kernelspec": {
   "display_name": "SageMath 9.7.beta8",
   "language": "sage",
   "name": "sagemath"
  },
  "language_info": {
   "codemirror_mode": {
    "name": "ipython",
    "version": 3
   },
   "file_extension": ".py",
   "mimetype": "text/x-python",
   "name": "python",
   "nbconvert_exporter": "python",
   "pygments_lexer": "ipython3",
   "version": "3.10.5"
  }
 },
 "nbformat": 4,
 "nbformat_minor": 4
}
