{
 "cells": [
  {
   "cell_type": "markdown",
   "metadata": {},
   "source": [
    "Note that the labelling of these sections is based on the version of the paper completed on 15/08/22. This cell should be updated in the event of a change to the labelling in the paper.\n",
    "\n",
    "Currently running on Sagemath version 9.4.rc0, Release Date: 2021-07-27.\n",
    "Using Python 3.9.5.\n",
    "\n",
    "This notebook is intended to be ran sequentially from the beginning. Changing the order in which cells are ran may lead to errors. "
   ]
  },
  {
   "cell_type": "markdown",
   "metadata": {},
   "source": [
    "## Quotient by $(12)$ in the $\\mathbb{P}^4$-model"
   ]
  },
  {
   "cell_type": "code",
   "execution_count": 1,
   "metadata": {},
   "outputs": [
    {
     "name": "stdout",
     "output_type": "stream",
     "text": [
      "The defining equations in terms of the semi-invariants:\n",
      "Q2:  3/2*s1^2 + 1/2*s2^2 + 2*s1*s3 + 3/2*s3^2 + 1/2*s4^2\n",
      "Q3:  -3/4*s1^3 + 3/4*s1*s2^2 - 3*s1^2*s3 - 3*s1*s3^2 - 3/4*s3^3 + 3/4*s3*s4^2\n",
      "\n",
      "The defining equation in terms of the invariants:\n",
      "reduced polynomial: (-3) * (4*s^3 + 8*s^2*u + 7*s*u^2 + u^3 + s*v^2 - u*v^2) \n",
      "\n",
      "Output of Weierstrassform: \n",
      "x^3-25/3*s^4*x+2950/27*s^6+y^2\n"
     ]
    }
   ],
   "source": [
    "# Same method as in previous notebooks\n",
    "# Note the choice of transform matrix, which will make the subsequent quotient (34) clearer. \n",
    "\n",
    "P3s.<s1, s2, s3, s4> = QQ[]\n",
    "v2s = matrix([[1,1,0,0],[1,-1, 0,0],[0,0,1,1],[0,0,1,-1]])\n",
    "s2v = v2s.inverse()\n",
    "v1, v2, v3, v4 = s2v*vector([s1, s2, s3, s4])\n",
    "\n",
    "# We then define our two constraints (that is, we have already defined v5 := -v1-v2-v3-v4)\n",
    "Q2 = v1^2+v2^2+v3^2+v4^2+(v1+v2+v3+v4)^2\n",
    "Q3 = v1^3+v2^3+v3^3+v4^3-(v1+v2+v3+v4)^3\n",
    "\n",
    "print(\"The defining equations in terms of the semi-invariants:\")\n",
    "print(\"Q2: \", Q2)\n",
    "print(\"Q3: \", Q3)\n",
    "print()\n",
    "\n",
    "# Take invariants s=s1, t=s2^2, u=s3, v=s4\n",
    "P3si.<s,t,u,v> = QQ[]\n",
    "Q2 = 3/2*s^2 + 1/2*t + 2*s*u + 3/2*u^2 + 1/2*v^2\n",
    "Q3 = -3/4*s^3 + 3/4*s*t - 3*s^2*u - 3*s*u^2 - 3/4*u^3 + 3/4*u*v^2\n",
    "\n",
    "# In writing these, we notice we can eliminate t\n",
    "tsub = -2*(3/2*s^2 + 2*s*u + 3/2*u^2 + 1/2*v^2)\n",
    "poly = Q3(s,tsub,u,v)\n",
    "# We extract the polynomial via the numerator \n",
    "P3sir.<s,u,v> = QQ[]\n",
    "poly = P3sir(poly(s,0,u,v).numerator())\n",
    "print(\"The defining equation in terms of the invariants:\")\n",
    "print(\"reduced polynomial:\", poly.factor(), \"\\n\")\n",
    "\n",
    "# For the next cell it will be useful to see the curve in Weierstrass form\n",
    "MP = Maple()\n",
    "MP.with_package('algcurves')\n",
    "wf_data = MP('Weierstrassform({}, u, v, x, y)'.format(poly))\n",
    "poly_wp = wf_data.op(1)\n",
    "print(\"Output of Weierstrassform: \")\n",
    "print(poly_wp)"
   ]
  },
  {
   "cell_type": "code",
   "execution_count": 2,
   "metadata": {},
   "outputs": [
    {
     "name": "stdout",
     "output_type": "stream",
     "text": [
      "[1, 0]\n",
      "[2, 0]\n"
     ]
    }
   ],
   "source": [
    "# We can then check the translation we get from the subsequent action of (345). \n",
    "load(\"riemann_surface.py\")\n",
    "from riemann_theta.riemann_theta import RiemannTheta\n",
    "\n",
    "# We will use conventions of Mckean and Moll\n",
    "a4 = -25/3\n",
    "a6 = +2950/27\n",
    "R.<x,y> = QQ[]\n",
    "f5 = y^2-(x^3+a4*x+a6)\n",
    "C5 = Curve(f5)\n",
    "P = C5.places_at_infinity()[0]\n",
    "integration_method = 'rigorous'\n",
    "prec = 60\n",
    "S5 = RiemannSurface(f5, prec=prec, integration_method=integration_method)\n",
    "g = S5.genus\n",
    "PM = S5.period_matrix()\n",
    "\n",
    "t5 = S5.riemann_matrix()\n",
    "# Let's verify that using the Weierstrass p would invert this naturally\n",
    "# We use the results on pp. 132-133 of McKean and Moll\n",
    "th = RiemannTheta(t5)\n",
    "nw2 = th(char=[[1],[0],2])\n",
    "nw3 = th(char=[[0],[0],2])\n",
    "nw4 = th(char=[[0],[1],2])\n",
    "\n",
    "# Let's verify some identities we should have for the theta function. \n",
    "if not (nw4^4-nw3^4+nw2^4).abs() < 1e-10:\n",
    "    raise ValueError(\"check on theta funciton failed\")\n",
    "# This second identity is in Whittaker and Watson. Note there it is missing the pi.\n",
    "# This is as the definition in WW excludes a factor of pi that we have in the sum. \n",
    "nw1p = -th(char=[[1],[1],2], derivs=[0])\n",
    "if not ((nw1p-(S5._RR.pi()*nw2*nw3*nw4)).abs() < 1e-10):\n",
    "    raise ValueError(\"check on theta funciton failed\")\n",
    "\n",
    "e1 = S5._RR.pi()^2*(nw4^4+nw3^4)/3\n",
    "e2 = S5._RR.pi()^2*(nw2^4-nw4^4)/3\n",
    "e3 = -S5._RR.pi()^2*(nw2^4+nw3^4)/3\n",
    "\n",
    "if not ((e1+e2+e3).abs() < 1e-10):\n",
    "    raise ValueError(\"check on theta funciton failed\")\n",
    "\n",
    "# Clearly this formula only works for wp defined wrt the lattice ZZ+tau*ZZ.\n",
    "wp_normalised = lambda zi: (S5._RR.pi()*nw2*nw3*th(char=[[0],[1],2],z=(zi,))/th(char=[[1],[1],2],z=(zi,)))^2+e3\n",
    "# We rectify through scaling \n",
    "mu = PM[0,0]\n",
    "wp = lambda zi : wp_normalised(zi/mu)/mu^2\n",
    "# Choose some arebitrary point in the lattice as a basepoint for this check\n",
    "sz = CC(1/10+I/10)\n",
    "wpz = wp(sz)\n",
    "if ((wpz-wp(sz+PM[0,0])).abs() > 1e-10) or ((wpz-wp(sz+PM[0,1])).abs() > 1e-10):\n",
    "    raise ValueError(\"check on theta funciton failed\")\n",
    "    \n",
    "# Now we are confident we have a correct Weierstrass p function for the curve we\n",
    "# we can check the translation that corresponds to (345) in this homology basis. \n",
    "# We give the base coordinate of the image of inf under the translation\n",
    "inf_t_x = S5._CC(-25/3)\n",
    "\n",
    "# We loop through all 1/3-lattice vectors and see if they are the give the same basepoint value\n",
    "# (calculated via the Weierstrass p) as the image of infinity, would correspond to zero in the \n",
    "# lattice. \n",
    "for r in range(3):\n",
    "    for s in range(3):\n",
    "        ttx = wp((r*PM[0,0]+s*PM[0,1])/3)\n",
    "        if (ttx - inf_t_x).abs() > 1e-10:\n",
    "            continue\n",
    "        print([r,s])\n",
    "# This output tells us that the two possible trasnforms are z -> z + 1/3 or z -> z + 2/3\n",
    "# This is what we expect, as we cannot distinguish between the two fibre vlaues of +-20 by this test,\n",
    "# so one will correspond to (345) and the other to (354). "
   ]
  },
  {
   "cell_type": "code",
   "execution_count": null,
   "metadata": {},
   "outputs": [],
   "source": []
  }
 ],
 "metadata": {
  "kernelspec": {
   "display_name": "SageMath 9.4.rc0",
   "language": "sage",
   "name": "sagemath"
  },
  "language_info": {
   "codemirror_mode": {
    "name": "ipython",
    "version": 3
   },
   "file_extension": ".py",
   "mimetype": "text/x-python",
   "name": "python",
   "nbconvert_exporter": "python",
   "pygments_lexer": "ipython3",
   "version": "3.9.5"
  }
 },
 "nbformat": 4,
 "nbformat_minor": 4
}
