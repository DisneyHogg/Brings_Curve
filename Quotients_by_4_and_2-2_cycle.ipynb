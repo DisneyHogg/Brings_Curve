{
 "cells": [
  {
   "cell_type": "markdown",
   "metadata": {},
   "source": [
    "Note that the labelling of these sections is based on the version of the paper completed on 15/08/22. This cell should be updated in the event of a change to the labelling in the paper.\n",
    "\n",
    "Currently running on Sagemath version 9.7.beta8, Release Date: 2022-08-07.\n",
    "Using Python 3.10.5.\n",
    "\n",
    "This notebook is intended to be ran sequentially from the beginning. Changing the order in which cells are ran may lead to errors. "
   ]
  },
  {
   "cell_type": "markdown",
   "metadata": {},
   "source": [
    "## Quotient by $(12)(34)$ in the HC-model"
   ]
  },
  {
   "cell_type": "code",
   "execution_count": 1,
   "metadata": {},
   "outputs": [
    {
     "name": "stdout",
     "output_type": "stream",
     "text": [
      "Curve is correctly defined in terms of invariants:  True\n",
      "\n",
      "Weierstrassform output:\n",
      "[-A^6-4*A^5-10*A^3+B^2-4*A-1, (-1+V-X)/(-X^2+V), (8*X^6-5*V*X^4-4*X^5+30*V^2*X^2-65*V*X^3-30*X^4-40*V^2*X+110*V*X^2+65*X^3-10*V*X-55*X^2-14*X+2)/X/(8*X^5-20*X^4+10*X^3+5*X^2-5*X+1), 1/2*(-A^3-2*A^2+2*A-B-1)/(-2*A^3+A^2-A), (1/2*A^4-5/2*A^3-3/2*A-1/2+(1/2*A+1/2)*B)/(4*A^4-4*A^3+5*A^2-2*A+1)]\n"
     ]
    }
   ],
   "source": [
    "# Let's first demonstrate how we found the quotient curve\n",
    "\n",
    "# Let's define the curve wrt the invariants of the action (X,Y,Z) -> (X,Z,Y)\n",
    "# which we call T=Y+Z and V=Y*Z.\n",
    "Q3.<X,T,V> = QQ[]\n",
    "# Some algebra is required to calculate this first term\n",
    "F = X*(T^5-5*T^3*V+5*T*V^2)+X^2*V^2-X^4*V-2*V^3\n",
    "\n",
    "# We make a check to see that we have done this correctly. \n",
    "var('Y Z')\n",
    "FB = X*(Y^5+Z^5)+(X*Y*Z)^2-X^4*Y*Z-2*(Y*Z)^3\n",
    "print(\"Curve is correctly defined in terms of invariants: \",bool(F.subs({T:Y+Z, V:Y*Z})==FB))\n",
    "print()\n",
    "\n",
    "# We put this in Weierstrass form using Maple, and the fact we know the curve is genus-2\n",
    "# by a Riemann Hurwitz argument\n",
    "poly = QQ['X','V'](F(X,1,V))\n",
    "MP = Maple()\n",
    "MP.with_package('algcurves')\n",
    "v = MP('Weierstrassform({}, X, V, A, B)'.format(poly))\n",
    "poly_wp = v.op(1)\n",
    "print(\"Weierstrassform output:\")\n",
    "print(v)"
   ]
  },
  {
   "cell_type": "code",
   "execution_count": 2,
   "metadata": {},
   "outputs": [
    {
     "name": "stdout",
     "output_type": "stream",
     "text": [
      "-A^6 + 4*A^5 + 10*A^3 + B^2 + 4*A - 1\n"
     ]
    }
   ],
   "source": [
    "# Let's verify our claims about X0(50)\n",
    "# This cell just follows the process in \"Defining equations of modular curves $X_0(N)$\" (Shimura)\n",
    "N = 50 \n",
    "M = ModularFormsRing(N)\n",
    "S2 = M.modular_forms_of_weight(2).cuspidal_submodule()\n",
    "g = len(S2.basis()) # = genus = 2\n",
    "P = 3*g+3\n",
    "g2, g1 = S2.q_expansion_basis(prec=P)\n",
    "\n",
    "if not g1[1]==0 and g1[2]==1 and g2[0]==0 and g2[1]==0:\n",
    "    g1, g2 = (g2, g1)\n",
    "\n",
    "x = g2/g1\n",
    "q = x.parent(x.variable())\n",
    "y = q*x.derivative()/g1\n",
    "\n",
    "_.<A, B> = QQ[]\n",
    "\n",
    "d = 2*g+2\n",
    "F = B^2 - A^d\n",
    "\n",
    "for k in range(d):\n",
    "    trunc = (F(x,y).truncate(-d+k+2)*q^(d-k-1)).coefficients()\n",
    "    if trunc:\n",
    "        ak = trunc[0]\n",
    "    else:\n",
    "        ak = 0\n",
    "    F -= ak*A^(d-k-1)\n",
    "print(F)"
   ]
  },
  {
   "cell_type": "code",
   "execution_count": 3,
   "metadata": {},
   "outputs": [
    {
     "name": "stdout",
     "output_type": "stream",
     "text": [
      "The hyperelliptic curve in terms of B2, A2:\n",
      "A2^6 - 5*A2^4 - 40*A2^2 + B2^2 - 80 \n",
      "\n"
     ]
    }
   ],
   "source": [
    "# There will be a more convenient form of this hyperelliptic curve that we find now\n",
    "var('B2 A2')\n",
    "QQxy.<A,B> = PolynomialRing(QQ)\n",
    "poly = QQxy(poly_wp)\n",
    "poly2 = poly.subs({A: (2+A2)/(2-A2), B:4*B2/(2-A2)^3}).numerator()/16\n",
    "print(\"The hyperelliptic curve in terms of B2, A2:\")\n",
    "print(poly2,\"\\n\")"
   ]
  },
  {
   "cell_type": "code",
   "execution_count": 4,
   "metadata": {},
   "outputs": [
    {
     "name": "stdout",
     "output_type": "stream",
     "text": [
      "f: 0 = x^3 - 5*x^2*z + y^2*z - 40*x*z^2 - 80*z^3\n",
      "j = -1 * 2^-5 * 5 * 29^3\n",
      "label: 50b1\n",
      "\n",
      "f: 0 = -80*x^3 - 40*x^2*z + y^2*z - 5*x*z^2 + z^3\n",
      "j = -1 * 2^-1 * 5^2\n",
      "label: 50a1\n"
     ]
    }
   ],
   "source": [
    "# From here we read off the two quotients (as per Cassels Flynn) and then find the j-invariant\n",
    "# and the Cremona label. \n",
    "R.<x,y,z> = QQ[]\n",
    "\n",
    "f = y^2*z + (x^3  - 5*x^2*z - 40*x*z^2 - 80*z^3)\n",
    "E = Jacobian(f)\n",
    "print(\"f: 0 =\", f)\n",
    "print(\"j =\", E.j_invariant().factor())\n",
    "print(\"label:\", E.label())\n",
    "\n",
    "print()\n",
    "f = y^2*z + (z^3  - 5*z^2*x - 40*z*x^2 - 80*x^3)\n",
    "E = Jacobian(f)\n",
    "print(\"f: 0 =\", f)\n",
    "print(\"j =\", E.j_invariant().factor())\n",
    "print(\"label:\", E.label())"
   ]
  },
  {
   "cell_type": "markdown",
   "metadata": {},
   "source": [
    "## Quotient by $(12)(34)$ in the $\\mathbb{P}^4$-model"
   ]
  },
  {
   "cell_type": "code",
   "execution_count": 5,
   "metadata": {},
   "outputs": [
    {
     "name": "stdout",
     "output_type": "stream",
     "text": [
      "The defining equations in terms of the semi-invariants:\n",
      "Q2:  5/4*s1^2 + 1/4*s3^2 + 1/2*s2*s4\n",
      "Q3:  -15/16*s1^3 + 3/16*s2^2*s3 + 3/16*s1*s3^2 + 3/8*s1*s2*s4 + 3/16*s3*s4^2\n",
      "\n",
      "The defining equation in terms of the invariants:\n",
      "reduced polynomial:  75/64*s^4*u + 15/32*s^2*u^3 + 3/64*u^5 - 15/8*s^3*v + 3/16*u*v^2 \n",
      "\n",
      "Output of Weierstrassform: \n",
      "[-100*s^6+25*s^4*x^2+10*s^2*x^4+x^6+y^2, u, -10*s^3+2*u*v, x, 1/4*(20*s^3+2*y)/x] \n",
      "\n",
      "f: 0 = x^3 + 10*x^2*z + y^2*z + 25*x*z^2 - 100*z^3\n",
      "j = -1 * 2^-1 * 5^2\n",
      "label: 400c1\n",
      "\n",
      "f: 0 = -100*x^3 + 25*x^2*z + y^2*z + 10*x*z^2 + z^3\n",
      "j = -1 * 2^-5 * 5 * 29^3\n",
      "label: 400c3\n"
     ]
    }
   ],
   "source": [
    "# Let's now confirm the same results coming via the P4-model\n",
    "# Let's do something strange, let's define our semi invariants for the order-4 action in advance\n",
    "Qj.<j> = QQ.extension(polygen(QQ)^2+1)\n",
    "P3s.<s1, s2, s3, s4> = Qj[]\n",
    "\n",
    "v2s = matrix([[1,1,1,1],[1,-1, j,-j],[1,1,-1,-1],[1,-1,-j,j]])\n",
    "\n",
    "s2v = v2s.inverse()\n",
    "v1, v2, v3, v4 = s2v*vector([s1, s2, s3, s4])\n",
    "\n",
    "# We then define our two constraints (that is, we have already defined v5 := -v1-v2-v3-v4)\n",
    "Q2 = v1^2+v2^2+v3^2+v4^2+(v1+v2+v3+v4)^2\n",
    "Q3 = v1^3+v2^3+v3^3+v4^3-(v1+v2+v3+v4)^3\n",
    "#Q2.resultant(Q3)\n",
    "\n",
    "print(\"The defining equations in terms of the semi-invariants:\")\n",
    "print(\"Q2: \",Q2)\n",
    "print(\"Q3: \",Q3)\n",
    "print()\n",
    "\n",
    "# For the 2,2 we introduce s=s1, t=s2*s4, u=s3, v=s2^2\n",
    "# This allows us to rewrite Q2 and Q3 in terms of our invariants. \n",
    "# Note that (remarkably) Q2 and Q3 are polynomials over QQ. \n",
    "P3si.<s,t,u,v> = QQ[]\n",
    "Q2 = 5/4*s^2 + 1/4*u^2 + 1/2*t\n",
    "Q3 = -15/16*s^3 + 3/16*u*v + 3/16*s*u^2 + 3/8*s*t + 3/16*t^2*u/v\n",
    "\n",
    "# In writing these, we notice we can eliminate t from Q3 using Q2,\n",
    "# to get a single polynomial in s,u,v. \n",
    "tsub = -2*(5/4*s^2 + 1/4*u^2)\n",
    "poly = Q3(s,tsub,u,v)\n",
    "# We extract the polynomial via the numerator \n",
    "P3sir.<s,u,v> = QQ[]\n",
    "poly = P3sir(poly(s,0,u,v).numerator())\n",
    "print(\"The defining equation in terms of the invariants:\")\n",
    "print(\"reduced polynomial: \", poly,\"\\n\")\n",
    "\n",
    "# We can now use Maple to find a Weierstrass form of this curve, that \n",
    "# we know to be elliptic from a Riemann-Hurwitz argument. \n",
    "# Take the variables of the reduced polynomial to be u,v, leaving s as a scale,\n",
    "# and take the coordinates on the new elliptic curve to be x, y. \n",
    "wf_data = MP('Weierstrassform({}, u, v, x, y)'.format(poly))\n",
    "poly_wp = wf_data.op(1)\n",
    "print(\"Output of Weierstrassform: \")\n",
    "print(wf_data, \"\\n\")\n",
    "\n",
    "\n",
    "# We now do the same check of the j-invariants as before. \n",
    "R.<x,y,z> = QQ[]\n",
    "\n",
    "f = y^2*z + (x^3  + 10*x^2*z + 25*x*z^2 - 100*z^3)\n",
    "E = Jacobian(f)\n",
    "print(\"f: 0 =\", f)\n",
    "print(\"j =\", E.j_invariant().factor())\n",
    "print(\"label:\", E.label())\n",
    "\n",
    "print()\n",
    "f = y^2*z + (z^3  + 10*z^2*x + 25*z*x^2 - 100*x^3)\n",
    "E = Jacobian(f)\n",
    "print(\"f: 0 =\", f)\n",
    "print(\"j =\", E.j_invariant().factor())\n",
    "print(\"label:\", E.label())"
   ]
  },
  {
   "cell_type": "code",
   "execution_count": 6,
   "metadata": {},
   "outputs": [
    {
     "name": "stdout",
     "output_type": "stream",
     "text": [
      "v1 + v2 + v3 + v4\n",
      "v1^2 - 2*v1*v2 + v2^2 + v3^2 - 2*v3*v4 + v4^2\n",
      "v1 + v2 - v3 - v4\n",
      "v1^2 - 2*v1*v2 + v2^2 + (2*j)*v1*v3 + (-2*j)*v2*v3 - v3^2 + (-2*j)*v1*v4 + (2*j)*v2*v4 + 2*v3*v4 - v4^2\n"
     ]
    }
   ],
   "source": [
    "# We check whether the invariants we have are indeed defined over QQ.\n",
    "P3s.<v1, v2, v3, v4> = Qj[]\n",
    "s1, s2, s3, s4 = v2s*vector([v1, v2, v3, v4])\n",
    "s, t, u, v = s1, s2*s4, s3, s2^2\n",
    "print(s)\n",
    "print(t)\n",
    "print(u)\n",
    "print(v)"
   ]
  },
  {
   "cell_type": "markdown",
   "metadata": {},
   "source": [
    "## Quotient by $(1324)$ in the $\\mathbb{P}^4$-model"
   ]
  },
  {
   "cell_type": "code",
   "execution_count": 7,
   "metadata": {},
   "outputs": [
    {
     "name": "stdout",
     "output_type": "stream",
     "text": [
      "The defining equation in terms of the invariants:\n",
      "reduced polynomial:  75/64*s^4*U*V^2 + 15/32*s^2*U^3*V - 15/8*s^3*V^3 + 3/64*U^5 + 3/16*U*V^3 \n",
      "\n",
      "Output of Weierstrassform: \n",
      "x^3-25/3*s^4*x-2950/27*s^6+y^2\n"
     ]
    }
   ],
   "source": [
    "# To do the quotient by (1324) we now need only follow the process above, but take invariants\n",
    "# U = u*v = s3*s2^2, V = v^2 = s2^4\n",
    "P3si.<s,t,U,V> = QQ[]\n",
    "Q2 = 5/4*s^2 + 1/4*U^2/V + 1/2*t\n",
    "Q3 = -15/16*s^3 + 3/16*U + 3/16*s*U^2/V + 3/8*s*t + 3/16*t^2*U/V\n",
    "\n",
    "tsub = -2*(5/4*s^2 + 1/4*U^2/V)\n",
    "poly = Q3(s,tsub,U,V)\n",
    "# We extract the polynomial via the numerator \n",
    "P3sir.<s,U,V> = QQ[]\n",
    "poly = P3sir(poly(s,0,U,V).numerator())\n",
    "print(\"The defining equation in terms of the invariants:\")\n",
    "print(\"reduced polynomial: \", poly,\"\\n\")\n",
    "\n",
    "# We can now use Maple to find a Weierstrass form of this curve, that \n",
    "# we know to be elliptic from a Riemann-Hurwitz argument. \n",
    "# Take the variables of the reduced polynomial to be u,v, leaving s as a scale,\n",
    "# and take the coordinates on the new elliptic curve to be x, y. \n",
    "wf_data = MP('Weierstrassform({}, U, V, x, y)'.format(poly))\n",
    "poly_wp = wf_data.op(1)\n",
    "print(\"Output of Weierstrassform: \")\n",
    "print(poly_wp)"
   ]
  },
  {
   "cell_type": "code",
   "execution_count": 8,
   "metadata": {},
   "outputs": [
    {
     "name": "stdout",
     "output_type": "stream",
     "text": [
      "f: 0 = x^3 + y^2*z - 25/3*x*z^2 - 2950/27*z^3\n",
      "j = -1 * 2^-1 * 5^2\n",
      "label: 400c1\n"
     ]
    }
   ],
   "source": [
    "# We now do the same check of the j-invariants as before. \n",
    "R.<x,y,z> = QQ[]\n",
    "\n",
    "f = y^2*z + (x^3  - 25*x*z^2/3 - 2950*z^3/27)\n",
    "E = Jacobian(f)\n",
    "print(\"f: 0 =\", f)\n",
    "print(\"j =\", E.j_invariant().factor())\n",
    "print(\"label:\", E.label())"
   ]
  },
  {
   "cell_type": "markdown",
   "metadata": {},
   "source": [
    "## Quotient by $A_4$"
   ]
  },
  {
   "cell_type": "code",
   "execution_count": 12,
   "metadata": {},
   "outputs": [
    {
     "name": "stdout",
     "output_type": "stream",
     "text": [
      "y4bar^3 - 373/64*y1bar^4*y4bar^2 + 431/32*y1bar^8*y4bar - 701/64*y1bar^12 + 1/4*y0bar^2\n",
      "y3bar - y1bar^3\n",
      "y2bar + y1bar^2\n",
      "\n",
      "f: 0 = x^3 - 373/64*x^2*z + 1/4*y^2*z + 431/32*x*z^2 - 701/64*z^3\n",
      "j = 2^-15 * 5 * 211^3\n",
      "label: 50a4\n"
     ]
    }
   ],
   "source": [
    "# We utilise the same method as with the birational transform to find the relations amongst\n",
    "# the symmetric polynomials.\n",
    "R.<y0, y1, y2, y3, y4, x1, x2, x3, x4> = PolynomialRing(QQ, order='invlex')\n",
    "II = R.ideal([x1^2 + x2^2 + x3^2 + x4^2 + (x1 + x2 + x3 + x4)^2, \n",
    "              x1^3 + x2^3 + x3^3 + x4^3 - (x1 + x2 + x3 + x4)^3])\n",
    "Q = R.quotient(II)\n",
    "y0, y1, y2, y3, y4, x1, x2, x3, x4 = Q.gens()\n",
    "\n",
    "xs = [x1, x2, x3, x4]\n",
    "IGs = [sum([xi^k for xi in xs]) for k in range(1,5)] + [prod([xs[i]-xs[j] for i in range(4) for j in range(i)])]\n",
    "I1, I2, I3, I4, I0 = IGs\n",
    "\n",
    "JJ = Q.ideal(y0-I0, y1-I1, y2-I2, y3-I3, y4-I4)\n",
    "B = JJ.groebner_basis()\n",
    "\n",
    "supset = set([y0, y1, y2, y3, y4])\n",
    "\n",
    "for bi in B:\n",
    "    if supset.issuperset(set(bi.variables())):\n",
    "        print(bi)\n",
    "print()\n",
    "# We now do the same check of the j-invariants as before. \n",
    "R.<x,y,z> = QQ[]\n",
    "f = x^3 - 373/64*z*x^2 + 431/32*z^2*x - 701/64*z^3 + 1/4*y^2*z\n",
    "E = Jacobian(f)\n",
    "print(\"f: 0 =\", f)\n",
    "print(\"j =\", E.j_invariant().factor())\n",
    "print(\"label:\", E.label())"
   ]
  },
  {
   "cell_type": "code",
   "execution_count": null,
   "metadata": {},
   "outputs": [],
   "source": []
  }
 ],
 "metadata": {
  "kernelspec": {
   "display_name": "SageMath 9.7.beta8",
   "language": "sage",
   "name": "sagemath"
  },
  "language_info": {
   "codemirror_mode": {
    "name": "ipython",
    "version": 3
   },
   "file_extension": ".py",
   "mimetype": "text/x-python",
   "name": "python",
   "nbconvert_exporter": "python",
   "pygments_lexer": "ipython3",
   "version": "3.10.5"
  }
 },
 "nbformat": 4,
 "nbformat_minor": 4
}
